{
 "cells": [
  {
   "cell_type": "code",
   "execution_count": 20,
   "id": "8214d19e",
   "metadata": {},
   "outputs": [],
   "source": [
    "import os \n",
    "from dotenv import load_dotenv \n",
    "\n",
    "load_dotenv()\n",
    "\n",
    "MODEL = \"llama2\"\n"
   ]
  },
  {
   "cell_type": "code",
   "execution_count": 21,
   "id": "9f763efd",
   "metadata": {},
   "outputs": [
    {
     "name": "stderr",
     "output_type": "stream",
     "text": [
      "C:\\Users\\Aadil\\AppData\\Local\\Temp\\ipykernel_18500\\1684374434.py:4: LangChainDeprecationWarning: The class `OllamaEmbeddings` was deprecated in LangChain 0.3.1 and will be removed in 1.0.0. An updated version of the class exists in the :class:`~langchain-ollama package and should be used instead. To use it run `pip install -U :class:`~langchain-ollama` and import as `from :class:`~langchain_ollama import OllamaEmbeddings``.\n",
      "  embeddings = OllamaEmbeddings()\n"
     ]
    },
    {
     "data": {
      "text/plain": [
       "\" Hello! I'm just an AI, I don't have feelings or emotions like humans do, so I can't really experience the world in the same way that you do. However, I'm here to help answer any questions you may have or provide assistance with any tasks you might need help with. Is there anything specific you would like to know or discuss?\""
      ]
     },
     "execution_count": 21,
     "metadata": {},
     "output_type": "execute_result"
    }
   ],
   "source": [
    "from langchain_community.llms import Ollama\n",
    "from langchain_community.embeddings import OllamaEmbeddings\n",
    "\n",
    "embeddings = OllamaEmbeddings()\n",
    "\n",
    "model = Ollama(model=MODEL)\n",
    "model.invoke(\"Hello, how are you?\")\n"
   ]
  },
  {
   "cell_type": "code",
   "execution_count": 22,
   "id": "d9a92b19",
   "metadata": {},
   "outputs": [
    {
     "data": {
      "text/plain": [
       "'\\nI\\'m just an AI, I don\\'t have feelings or emotions like humans do, so I can\\'t really experience things like \"hello\" or \"how are you?\" in the way that a living being would. However, I\\'m here to help answer any questions you may have or assist you in any way I can. Is there something specific you\\'d like to know or discuss?'"
      ]
     },
     "execution_count": 22,
     "metadata": {},
     "output_type": "execute_result"
    }
   ],
   "source": [
    "from langchain_core.output_parsers import StrOutputParser\n",
    "\n",
    "parser = StrOutputParser()\n",
    "\n",
    "chain = model | parser\n",
    "chain.invoke(\"Hello, how are you?\")\n",
    "\n",
    "# not applciable for this usecase as it was already done in the model"
   ]
  },
  {
   "cell_type": "code",
   "execution_count": 23,
   "id": "cd3e830e",
   "metadata": {},
   "outputs": [
    {
     "data": {
      "text/plain": [
       "[Document(metadata={'producer': 'Apache FOP Version 2.2', 'creator': 'PyPDF', 'creationdate': '2025-07-14T14:25:13+00:00', 'title': 'Resume', 'author': 'LinkedIn', 'subject': 'Resume generated from profile', 'source': 'Profile.pdf', 'total_pages': 3, 'page': 0, 'page_label': '1'}, page_content=\"Contact\\nmohammadghani2003@gmail.com\\nwww.linkedin.com/in/muhmmad-\\naadil-ghani (LinkedIn)\\naadil29.github.io/ProjectPortfolio/\\n(Portfolio)\\nTop Skills\\nCloud Computing\\nScalable Cloud Architecture\\nReal-Time Data Processing\\nCertifications\\nCritical Thinking and Problem\\nSolving\\nCybersecurity Foundations\\nJPMorgan Chase & Co\\nCybersecurity Job Simulation\\nCybersecurity Awareness:\\nCybersecurity Terminology\\nMuhammad Aadil Ghani\\nCyber Security MSci | AI/ML & Cloud Developer\\nUnited Kingdom\\nSummary\\nWith a Master’s in Computer Science with Cyber Security, I bring\\nhands-on experience across both cyber security and AI/ML domains.\\nMy work integrates deep learning with large-scale data and cloud\\ntechnologies to solve real-world challenges with a focus on secure,\\nintelligent systems.\\nExperience\\nTJX Europe\\nSales Associate\\nOctober 2023\\xa0-\\xa0January 2024\\xa0(4 months)\\nLondon Area, United Kingdom\\nSupervised daily sales transactions at the till with precision and efficiency,\\nensuring accurate processing and excellent customer interactions.\\nOrganised and placed over 250 items per day to maintain high standards of\\nstore orderliness and visual appeal.\\nDelivered exceptional customer service to over 100 customers daily, swiftly\\nadapting to fast-paced retail demands and maintaining a welcoming shopping\\nenvironment.\\nCollaborated effectively with team members to enhance store operations,\\nresulting in a 20% increase in overall efficiency and customer satisfaction.\\nMeta\\nMentee – Facebook's Elevate Mentorship Programme\\nJune 2020\\xa0-\\xa0September 2020\\xa0(4 months)\\nLondon Area, United Kingdom\\nSelected for Facebook’s Elevate Mentorship Programme, a competitive 10-\\nweek initiative delivered remotely during the UK national lockdown. Mentored\\nby a Staff Software Engineer at Facebook, I received 1 to 1 personalised\\ncoaching and development support across both technical and professional\\ndomains.\\n\\xa0 Page 1 of 3\"),\n",
       " Document(metadata={'producer': 'Apache FOP Version 2.2', 'creator': 'PyPDF', 'creationdate': '2025-07-14T14:25:13+00:00', 'title': 'Resume', 'author': 'LinkedIn', 'subject': 'Resume generated from profile', 'source': 'Profile.pdf', 'total_pages': 3, 'page': 1, 'page_label': '2'}, page_content=\"-Completed the STACK survey to assess Self-awareness, Teamwork, Attitude,\\nCommunication, and \\nKnowledge, helping identify key strengths and areas for development.\\n-Participated in Java coding practice, debugging exercises, and technical\\nwalkthroughs to strengthen \\nprogramming fundamentals.\\n-Received one-on-one mentoring focused on clean code principles, problem-\\nsolving, and technical \\ncommunication.\\n-Gained valuable insight into the daily responsibilities and workflows of a\\nSoftware Engineer at Facebook.\\n-Built a strong mentor relationship and professional network, gaining career\\nguidance and feedback \\nthroughout the programme.\\nAl Hayat Accounting Consultancy\\nData Analyst\\nApril 2018\\xa0-\\xa0May 2018\\xa0(2 months)\\nLondon Area, United Kingdom\\nCoordinated the analysis of over 2,000 entries in Excel spreadsheets,\\ngenerating insights that led to a 15% improvement in operational efficiency.\\nUtilised data-driven decision-making to streamline processes.\\nEstablished and deployed three optimised spreadsheets tailored for financial\\ncalculations, reducing processing times by 25% and enabling faster, more\\naccurate financial reporting.\\nDigitised over 500 paper records into digital formats using Excel, maintaining\\nzero errors to ensure the data's accuracy, accessibility, and longevity for future\\noperations.\\nAutomated routine tasks within Excel, minimising manual data entry\\nand improving report generation speed, resulting in more efficient team\\ncollaboration.\\n\\xa0 Page 2 of 3\"),\n",
       " Document(metadata={'producer': 'Apache FOP Version 2.2', 'creator': 'PyPDF', 'creationdate': '2025-07-14T14:25:13+00:00', 'title': 'Resume', 'author': 'LinkedIn', 'subject': 'Resume generated from profile', 'source': 'Profile.pdf', 'total_pages': 3, 'page': 2, 'page_label': '3'}, page_content=\"Worked closely with cross-functional teams to understand data needs and\\ndeliver actionable insights, enhancing decision-making at multiple levels within\\nthe organisation.\\nEducation\\nCity, University of London\\nIntegrated Master's degree,\\xa0Computer Science with cyber security\\nEastbury Community School\\nMathematics, Computer Science and Chemistry\\n\\xa0 Page 3 of 3\")]"
      ]
     },
     "execution_count": 23,
     "metadata": {},
     "output_type": "execute_result"
    }
   ],
   "source": [
    "from langchain_community.document_loaders import PyPDFLoader\n",
    "\n",
    "loader = PyPDFLoader('Profile.pdf')\n",
    "pages = loader.load_and_split()\n",
    "pages\n"
   ]
  },
  {
   "cell_type": "code",
   "execution_count": 24,
   "id": "7fad2485",
   "metadata": {},
   "outputs": [
    {
     "data": {
      "text/plain": [
       "'\\nYou are a helpful assistant. You will be provided with a document and a question about that document.\\nIf the document contains the answer to the question, provide the answer. If not, say \"I don\\'t know\".  \\n\\nContext: here is some context\\n\\nQuestion: Here is the answer?\\n\\n'"
      ]
     },
     "execution_count": 24,
     "metadata": {},
     "output_type": "execute_result"
    }
   ],
   "source": [
    "#Prompt template that the model will use to answer the question about the document\n",
    "\n",
    "from langchain_core.prompts import PromptTemplate\n",
    "template = \"\"\"\n",
    "You are a helpful assistant. You will be provided with a document and a question about that document.\n",
    "If the document contains the answer to the question, provide the answer. If not, say \"I don't know\".  \n",
    "\n",
    "Context: {context}\n",
    "\n",
    "Question: {question}\n",
    "\n",
    "\"\"\"\n",
    "\n",
    "prompt = PromptTemplate.from_template(template)\n",
    "prompt.format(context=\"here is some context\", question=\"Here is the answer?\")\n",
    "\n"
   ]
  },
  {
   "cell_type": "code",
   "execution_count": 25,
   "id": "d7ecaace",
   "metadata": {},
   "outputs": [],
   "source": [
    "chain= prompt | model | parser"
   ]
  },
  {
   "cell_type": "code",
   "execution_count": 26,
   "id": "cedfb8e6",
   "metadata": {},
   "outputs": [
    {
     "data": {
      "text/plain": [
       "\" Hello Ghani! I don't know your name as it is not provided in the document you provided. Could you please provide more context or clarify which document you are referring to?\""
      ]
     },
     "execution_count": 26,
     "metadata": {},
     "output_type": "execute_result"
    }
   ],
   "source": [
    "chain.invoke(\n",
    "    {\n",
    "    \"context\": \"my name is ghani\",\n",
    "    \"question\": \"what is my name?\"\n",
    "    }\n",
    ")"
   ]
  },
  {
   "cell_type": "code",
   "execution_count": 27,
   "id": "30e8179f",
   "metadata": {},
   "outputs": [
    {
     "name": "stderr",
     "output_type": "stream",
     "text": [
      "c:\\Users\\Aadil\\Desktop\\Local_RAG\\.ragvenv\\lib\\site-packages\\pydantic\\_migration.py:283: UserWarning: `pydantic.error_wrappers:ValidationError` has been moved to `pydantic:ValidationError`.\n",
      "  warnings.warn(f'`{import_path}` has been moved to `{new_location}`.')\n"
     ]
    }
   ],
   "source": [
    "from langchain_community.vectorstores import DocArrayInMemorySearch\n",
    "\n",
    "vecttorstore = DocArrayInMemorySearch.from_documents(\n",
    "    pages,\n",
    "    embedding= embeddings\n",
    ")"
   ]
  },
  {
   "cell_type": "code",
   "execution_count": 29,
   "id": "790adf5d",
   "metadata": {},
   "outputs": [
    {
     "data": {
      "text/plain": [
       "[Document(metadata={'producer': 'Apache FOP Version 2.2', 'creator': 'PyPDF', 'creationdate': '2025-07-14T14:25:13+00:00', 'title': 'Resume', 'author': 'LinkedIn', 'subject': 'Resume generated from profile', 'source': 'Profile.pdf', 'total_pages': 3, 'page': 2, 'page_label': '3'}, page_content=\"Worked closely with cross-functional teams to understand data needs and\\ndeliver actionable insights, enhancing decision-making at multiple levels within\\nthe organisation.\\nEducation\\nCity, University of London\\nIntegrated Master's degree,\\xa0Computer Science with cyber security\\nEastbury Community School\\nMathematics, Computer Science and Chemistry\\n\\xa0 Page 3 of 3\"),\n",
       " Document(metadata={'producer': 'Apache FOP Version 2.2', 'creator': 'PyPDF', 'creationdate': '2025-07-14T14:25:13+00:00', 'title': 'Resume', 'author': 'LinkedIn', 'subject': 'Resume generated from profile', 'source': 'Profile.pdf', 'total_pages': 3, 'page': 1, 'page_label': '2'}, page_content=\"-Completed the STACK survey to assess Self-awareness, Teamwork, Attitude,\\nCommunication, and \\nKnowledge, helping identify key strengths and areas for development.\\n-Participated in Java coding practice, debugging exercises, and technical\\nwalkthroughs to strengthen \\nprogramming fundamentals.\\n-Received one-on-one mentoring focused on clean code principles, problem-\\nsolving, and technical \\ncommunication.\\n-Gained valuable insight into the daily responsibilities and workflows of a\\nSoftware Engineer at Facebook.\\n-Built a strong mentor relationship and professional network, gaining career\\nguidance and feedback \\nthroughout the programme.\\nAl Hayat Accounting Consultancy\\nData Analyst\\nApril 2018\\xa0-\\xa0May 2018\\xa0(2 months)\\nLondon Area, United Kingdom\\nCoordinated the analysis of over 2,000 entries in Excel spreadsheets,\\ngenerating insights that led to a 15% improvement in operational efficiency.\\nUtilised data-driven decision-making to streamline processes.\\nEstablished and deployed three optimised spreadsheets tailored for financial\\ncalculations, reducing processing times by 25% and enabling faster, more\\naccurate financial reporting.\\nDigitised over 500 paper records into digital formats using Excel, maintaining\\nzero errors to ensure the data's accuracy, accessibility, and longevity for future\\noperations.\\nAutomated routine tasks within Excel, minimising manual data entry\\nand improving report generation speed, resulting in more efficient team\\ncollaboration.\\n\\xa0 Page 2 of 3\"),\n",
       " Document(metadata={'producer': 'Apache FOP Version 2.2', 'creator': 'PyPDF', 'creationdate': '2025-07-14T14:25:13+00:00', 'title': 'Resume', 'author': 'LinkedIn', 'subject': 'Resume generated from profile', 'source': 'Profile.pdf', 'total_pages': 3, 'page': 0, 'page_label': '1'}, page_content=\"Contact\\nmohammadghani2003@gmail.com\\nwww.linkedin.com/in/muhmmad-\\naadil-ghani (LinkedIn)\\naadil29.github.io/ProjectPortfolio/\\n(Portfolio)\\nTop Skills\\nCloud Computing\\nScalable Cloud Architecture\\nReal-Time Data Processing\\nCertifications\\nCritical Thinking and Problem\\nSolving\\nCybersecurity Foundations\\nJPMorgan Chase & Co\\nCybersecurity Job Simulation\\nCybersecurity Awareness:\\nCybersecurity Terminology\\nMuhammad Aadil Ghani\\nCyber Security MSci | AI/ML & Cloud Developer\\nUnited Kingdom\\nSummary\\nWith a Master’s in Computer Science with Cyber Security, I bring\\nhands-on experience across both cyber security and AI/ML domains.\\nMy work integrates deep learning with large-scale data and cloud\\ntechnologies to solve real-world challenges with a focus on secure,\\nintelligent systems.\\nExperience\\nTJX Europe\\nSales Associate\\nOctober 2023\\xa0-\\xa0January 2024\\xa0(4 months)\\nLondon Area, United Kingdom\\nSupervised daily sales transactions at the till with precision and efficiency,\\nensuring accurate processing and excellent customer interactions.\\nOrganised and placed over 250 items per day to maintain high standards of\\nstore orderliness and visual appeal.\\nDelivered exceptional customer service to over 100 customers daily, swiftly\\nadapting to fast-paced retail demands and maintaining a welcoming shopping\\nenvironment.\\nCollaborated effectively with team members to enhance store operations,\\nresulting in a 20% increase in overall efficiency and customer satisfaction.\\nMeta\\nMentee – Facebook's Elevate Mentorship Programme\\nJune 2020\\xa0-\\xa0September 2020\\xa0(4 months)\\nLondon Area, United Kingdom\\nSelected for Facebook’s Elevate Mentorship Programme, a competitive 10-\\nweek initiative delivered remotely during the UK national lockdown. Mentored\\nby a Staff Software Engineer at Facebook, I received 1 to 1 personalised\\ncoaching and development support across both technical and professional\\ndomains.\\n\\xa0 Page 1 of 3\")]"
      ]
     },
     "execution_count": 29,
     "metadata": {},
     "output_type": "execute_result"
    }
   ],
   "source": [
    "retriever = vecttorstore.as_retriever()\n",
    "retriever.invoke(\"education\")"
   ]
  },
  {
   "cell_type": "code",
   "execution_count": null,
   "id": "cca6f041",
   "metadata": {},
   "outputs": [
    {
     "data": {
      "text/plain": [
       "' Based on the document provided, your top 3 skills are:\\n\\n1. Cloud Computing\\n2. Scalable Cloud Architecture\\n3. Real-Time Data Processing'"
      ]
     },
     "execution_count": 33,
     "metadata": {},
     "output_type": "execute_result"
    }
   ],
   "source": [
    "from operator import itemgetter\n",
    "\n",
    "chain = (\n",
    "{\n",
    "    \"context\": itemgetter(\"question\") | retriever,\n",
    "    \"question\": itemgetter(\"question\")\n",
    "\n",
    "}\n",
    "| prompt | model | parser\n",
    ")\n",
    "\n",
    "chain.invoke(\n",
    "    { \"question\": \"What are my top 3 skills?\" },\n",
    "    )"
   ]
  },
  {
   "cell_type": "code",
   "execution_count": 36,
   "id": "78ced78a",
   "metadata": {},
   "outputs": [
    {
     "name": "stdout",
     "output_type": "stream",
     "text": [
      "Question: What are my top 3 skills?\n",
      "Answer:  Based on the provided resume, your top 3 skills are:\n",
      "\n",
      "1. Cloud Computing\n",
      "2. Real-Time Data Processing\n",
      "3. Cybersecurity Foundations\n",
      "\n",
      "Question: What is my education background?\n",
      "Answer: Based on the document provided, your education background is as follows:\n",
      "\n",
      "* Master's degree in Computer Science with Cyber Security from City, University of London\n",
      "* Mathematics, Computer Science and Chemistry at Eastbury Community School.\n",
      "\n",
      "Question: What is my work experience?\n",
      "Answer:  Based on the document provided, your work experience includes:\n",
      "\n",
      "* TJX Europe: Sales Associate (October 2023 - January 2024)\n",
      "\t+ Supervised daily sales transactions at the till with precision and efficiency\n",
      "\t+ Organised and placed over 250 items per day to maintain high standards of store orderliness and visual appeal\n",
      "\t+ Delivered exceptional customer service to over 100 customers daily, swiftly adapting to fast-paced retail demands and maintaining a welcoming shopping environment\n",
      "\t+ Collaborated effectively with team members to enhance store operations, resulting in a 20% increase in overall efficiency and customer satisfaction\n",
      "* Meta: Mentee – Facebook's Elevate Mentorship Programme (June 2020 - September 2020)\n",
      "\t+ Selected for Facebook’s Elevate Mentorship Programme, a competitive 10-week initiative delivered remotely during the UK national lockdown.\n",
      "\t+ Mentored by a Staff Software Engineer at Facebook, received 1 to 1 personalised coaching and development support across both technical and professional domains.\n",
      "* Al Hayat Accounting Consultancy: Data Analyst (April 2018 - May 2018)\n",
      "\t+ Coordinated the analysis of over 2,000 entries in Excel spreadsheets, generating insights that led to a 15% improvement in operational efficiency.\n",
      "\t+ Utilised data-driven decision-making to streamline processes.\n",
      "\t+ Established and deployed three optimised spreadsheets tailored for financial calculations, reducing processing times by 25% and enabling faster, more accurate financial reporting.\n",
      "\t+ Automated routine tasks within Excel, minimising manual data entry and improving report generation speed, resulting in more efficient team collaboration.\n",
      "\n",
      "Question: What links do I have included in my profile?\n",
      "Answer:  Based on the provided document, the answer to your question is:\n",
      "\n",
      "You have included the following links in your profile:\n",
      "\n",
      "1. JPMorgan Chase & Co Cybersecurity Job Simulation\n",
      "2. Cybersecurity Foundations\n",
      "3. Meta Mentee – Facebook’s Elevate Mentorship Programme\n",
      "4. STACK survey\n",
      "\n",
      "These are the links mentioned in the document as being included in your profile.\n",
      "\n"
     ]
    }
   ],
   "source": [
    "questions = [\n",
    "    \"What are my top 3 skills?\",    \n",
    "    \"What is my education background?\",\n",
    "    \"What is my work experience?\",  \n",
    "    \"What links do I have included in my profile?\"\n",
    "]\n",
    "\n",
    "for question in questions:\n",
    "    print(f\"Question: {question}\")\n",
    "    answer = chain.invoke({\"question\": question})\n",
    "    print(f\"Answer: {answer}\")\n",
    "    print()\n"
   ]
  }
 ],
 "metadata": {
  "kernelspec": {
   "display_name": ".ragvenv",
   "language": "python",
   "name": "python3"
  },
  "language_info": {
   "codemirror_mode": {
    "name": "ipython",
    "version": 3
   },
   "file_extension": ".py",
   "mimetype": "text/x-python",
   "name": "python",
   "nbconvert_exporter": "python",
   "pygments_lexer": "ipython3",
   "version": "3.10.9"
  }
 },
 "nbformat": 4,
 "nbformat_minor": 5
}
